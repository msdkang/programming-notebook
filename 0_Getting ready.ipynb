{
 "cells": [
  {
   "attachments": {},
   "cell_type": "markdown",
   "metadata": {},
   "source": [
    "## How to Install VS code\n",
    "\n",
    "\n",
    "https://code.visualstudio.com/"
   ]
  },
  {
   "attachments": {},
   "cell_type": "markdown",
   "metadata": {},
   "source": [
    "## How to Install Python\n",
    "\n",
    "https://code.visualstudio.com/docs/python/python-tutorial"
   ]
  },
  {
   "attachments": {},
   "cell_type": "markdown",
   "metadata": {},
   "source": [
    "## How to add JupyterNotebook to VS code.\n",
    "\n",
    "https://code.visualstudio.com/docs/datascience/jupyter-notebooks"
   ]
  },
  {
   "attachments": {},
   "cell_type": "markdown",
   "metadata": {},
   "source": [
    "**Homework I**\n",
    "\n",
    "take two numbers and print their summation:"
   ]
  },
  {
   "cell_type": "code",
   "execution_count": 4,
   "metadata": {},
   "outputs": [
    {
     "name": "stdout",
     "output_type": "stream",
     "text": [
      "Hi! This is Masood. I am 31 and from IRAN\n",
      "Hi! This is Masood. I am 31 and from IRAN\n"
     ]
    }
   ],
   "source": [
    "name = 'Masood'\n",
    "age = 31\n",
    "country = 'IRAN'\n",
    "\n",
    "print(\"Hi! This is {0}. I am {1} and from {2}\".format(name,age,country))\n",
    "print(\"Hi! This is {}. I am {} and from {}\".format(name,age,country))"
   ]
  },
  {
   "attachments": {},
   "cell_type": "markdown",
   "metadata": {},
   "source": [
    "Print\n",
    "1- print one element:\n",
    "print(\"Hi\")\n",
    "\n",
    "2- print two or more elements:\n",
    "print(\"Hi\", \"This is Masood\", \"Bye\")\n",
    "\n",
    "3. print numbers and text together:\n",
    "\n",
    "name = 'Masood'\n",
    "age = 31\n",
    "country = 'IRAN'\n",
    "\n",
    "name = 'Masood'\n",
    "age = 31\n",
    "country = 'IRAN'\n",
    "\n",
    "print(\"Hi! This is {0}. I am {1} and from {2}\".format( name, age, country))\n",
    "#or\n",
    "print(\"Hi! This is {}. I am {} and from {}\".format(name, age, country))"
   ]
  },
  {
   "attachments": {},
   "cell_type": "markdown",
   "metadata": {},
   "source": [
    "Logical Operator\n",
    "\n",
    "== \n",
    "<> or !=\n",
    "<\n",
    ">\n",
    "<=\n",
    ">= \n",
    "\n",
    "and \n",
    "or\n",
    "not #or ~ :  \n",
    "not(a==b)\n",
    "~(a==b)"
   ]
  },
  {
   "attachments": {},
   "cell_type": "markdown",
   "metadata": {},
   "source": [
    "**Get absolute value**\n",
    "\n",
    "return absulte"
   ]
  },
  {
   "cell_type": "markdown",
   "metadata": {},
   "source": []
  },
  {
   "attachments": {},
   "cell_type": "markdown",
   "metadata": {},
   "source": [
    "HM1: given any number a, print the absolute value of a\n",
    "\n",
    "\n",
    "HW2: given any number a, print the integer part of a\n",
    "جز صحیح یه عدد رو چاپ کنه\n",
    "\n",
    "HW3: given any number a, print if a is a production of 5\n",
    "\n",
    "\n",
    "HW4: given any number a, print if a is a production of 5 without using basic operators: /, %, or //"
   ]
  },
  {
   "cell_type": "code",
   "execution_count": 2,
   "metadata": {},
   "outputs": [
    {
     "data": {
      "text/plain": [
       "3"
      ]
     },
     "execution_count": 2,
     "metadata": {},
     "output_type": "execute_result"
    }
   ],
   "source": [
    "a = 123\n"
   ]
  }
 ],
 "metadata": {
  "kernelspec": {
   "display_name": "base",
   "language": "python",
   "name": "python3"
  },
  "language_info": {
   "codemirror_mode": {
    "name": "ipython",
    "version": 3
   },
   "file_extension": ".py",
   "mimetype": "text/x-python",
   "name": "python",
   "nbconvert_exporter": "python",
   "pygments_lexer": "ipython3",
   "version": "3.8.8"
  },
  "orig_nbformat": 4
 },
 "nbformat": 4,
 "nbformat_minor": 2
}
