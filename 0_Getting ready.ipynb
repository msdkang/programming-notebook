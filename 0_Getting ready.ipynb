{
 "cells": [
  {
   "attachments": {},
   "cell_type": "markdown",
   "metadata": {},
   "source": [
    "## How to Install VS code\n",
    "\n",
    "\n",
    "https://code.visualstudio.com/"
   ]
  },
  {
   "attachments": {},
   "cell_type": "markdown",
   "metadata": {},
   "source": [
    "## How to Install Python\n",
    "\n",
    "https://code.visualstudio.com/docs/python/python-tutorial"
   ]
  },
  {
   "attachments": {},
   "cell_type": "markdown",
   "metadata": {},
   "source": [
    "## How to add JupyterNotebook to VS code.\n",
    "\n",
    "https://code.visualstudio.com/docs/datascience/jupyter-notebooks"
   ]
  }
 ],
 "metadata": {
  "language_info": {
   "name": "python"
  },
  "orig_nbformat": 4
 },
 "nbformat": 4,
 "nbformat_minor": 2
}
